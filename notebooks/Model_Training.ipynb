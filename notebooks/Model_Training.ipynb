{
 "cells": [
  {
   "cell_type": "markdown",
   "metadata": {},
   "source": [
    "### Model Training"
   ]
  },
  {
   "cell_type": "code",
   "execution_count": 3,
   "metadata": {},
   "outputs": [],
   "source": [
    "import pandas as pd"
   ]
  },
  {
   "cell_type": "code",
   "execution_count": 4,
   "metadata": {},
   "outputs": [
    {
     "data": {
      "text/html": [
       "<div>\n",
       "<style scoped>\n",
       "    .dataframe tbody tr th:only-of-type {\n",
       "        vertical-align: middle;\n",
       "    }\n",
       "\n",
       "    .dataframe tbody tr th {\n",
       "        vertical-align: top;\n",
       "    }\n",
       "\n",
       "    .dataframe thead th {\n",
       "        text-align: right;\n",
       "    }\n",
       "</style>\n",
       "<table border=\"1\" class=\"dataframe\">\n",
       "  <thead>\n",
       "    <tr style=\"text-align: right;\">\n",
       "      <th></th>\n",
       "      <th>Unnamed: 0</th>\n",
       "      <th>carat</th>\n",
       "      <th>cut</th>\n",
       "      <th>color</th>\n",
       "      <th>clarity</th>\n",
       "      <th>depth</th>\n",
       "      <th>table</th>\n",
       "      <th>x</th>\n",
       "      <th>y</th>\n",
       "      <th>z</th>\n",
       "      <th>price</th>\n",
       "    </tr>\n",
       "  </thead>\n",
       "  <tbody>\n",
       "    <tr>\n",
       "      <th>0</th>\n",
       "      <td>1</td>\n",
       "      <td>0.30</td>\n",
       "      <td>Ideal</td>\n",
       "      <td>E</td>\n",
       "      <td>SI1</td>\n",
       "      <td>62.1</td>\n",
       "      <td>58.0</td>\n",
       "      <td>4.27</td>\n",
       "      <td>4.29</td>\n",
       "      <td>2.66</td>\n",
       "      <td>499</td>\n",
       "    </tr>\n",
       "    <tr>\n",
       "      <th>1</th>\n",
       "      <td>2</td>\n",
       "      <td>0.33</td>\n",
       "      <td>Premium</td>\n",
       "      <td>G</td>\n",
       "      <td>IF</td>\n",
       "      <td>60.8</td>\n",
       "      <td>58.0</td>\n",
       "      <td>4.42</td>\n",
       "      <td>4.46</td>\n",
       "      <td>2.70</td>\n",
       "      <td>984</td>\n",
       "    </tr>\n",
       "    <tr>\n",
       "      <th>2</th>\n",
       "      <td>3</td>\n",
       "      <td>0.90</td>\n",
       "      <td>Very Good</td>\n",
       "      <td>E</td>\n",
       "      <td>VVS2</td>\n",
       "      <td>62.2</td>\n",
       "      <td>60.0</td>\n",
       "      <td>6.04</td>\n",
       "      <td>6.12</td>\n",
       "      <td>3.78</td>\n",
       "      <td>6289</td>\n",
       "    </tr>\n",
       "    <tr>\n",
       "      <th>3</th>\n",
       "      <td>4</td>\n",
       "      <td>0.42</td>\n",
       "      <td>Ideal</td>\n",
       "      <td>F</td>\n",
       "      <td>VS1</td>\n",
       "      <td>61.6</td>\n",
       "      <td>56.0</td>\n",
       "      <td>4.82</td>\n",
       "      <td>4.80</td>\n",
       "      <td>2.96</td>\n",
       "      <td>1082</td>\n",
       "    </tr>\n",
       "    <tr>\n",
       "      <th>4</th>\n",
       "      <td>5</td>\n",
       "      <td>0.31</td>\n",
       "      <td>Ideal</td>\n",
       "      <td>F</td>\n",
       "      <td>VVS1</td>\n",
       "      <td>60.4</td>\n",
       "      <td>59.0</td>\n",
       "      <td>4.35</td>\n",
       "      <td>4.43</td>\n",
       "      <td>2.65</td>\n",
       "      <td>779</td>\n",
       "    </tr>\n",
       "  </tbody>\n",
       "</table>\n",
       "</div>"
      ],
      "text/plain": [
       "   Unnamed: 0  carat        cut color clarity  depth  table     x     y     z   \n",
       "0           1   0.30      Ideal     E     SI1   62.1   58.0  4.27  4.29  2.66  \\\n",
       "1           2   0.33    Premium     G      IF   60.8   58.0  4.42  4.46  2.70   \n",
       "2           3   0.90  Very Good     E    VVS2   62.2   60.0  6.04  6.12  3.78   \n",
       "3           4   0.42      Ideal     F     VS1   61.6   56.0  4.82  4.80  2.96   \n",
       "4           5   0.31      Ideal     F    VVS1   60.4   59.0  4.35  4.43  2.65   \n",
       "\n",
       "   price  \n",
       "0    499  \n",
       "1    984  \n",
       "2   6289  \n",
       "3   1082  \n",
       "4    779  "
      ]
     },
     "execution_count": 4,
     "metadata": {},
     "output_type": "execute_result"
    }
   ],
   "source": [
    "df=pd.read_csv('data/gemstone.csv')\n",
    "df.head()"
   ]
  },
  {
   "cell_type": "code",
   "execution_count": 7,
   "metadata": {},
   "outputs": [],
   "source": [
    "df.drop(labels=['Unnamed: 0'],axis=1,inplace=True)"
   ]
  },
  {
   "cell_type": "code",
   "execution_count": 8,
   "metadata": {},
   "outputs": [
    {
     "data": {
      "text/html": [
       "<div>\n",
       "<style scoped>\n",
       "    .dataframe tbody tr th:only-of-type {\n",
       "        vertical-align: middle;\n",
       "    }\n",
       "\n",
       "    .dataframe tbody tr th {\n",
       "        vertical-align: top;\n",
       "    }\n",
       "\n",
       "    .dataframe thead th {\n",
       "        text-align: right;\n",
       "    }\n",
       "</style>\n",
       "<table border=\"1\" class=\"dataframe\">\n",
       "  <thead>\n",
       "    <tr style=\"text-align: right;\">\n",
       "      <th></th>\n",
       "      <th>carat</th>\n",
       "      <th>cut</th>\n",
       "      <th>color</th>\n",
       "      <th>clarity</th>\n",
       "      <th>depth</th>\n",
       "      <th>table</th>\n",
       "      <th>x</th>\n",
       "      <th>y</th>\n",
       "      <th>z</th>\n",
       "      <th>price</th>\n",
       "    </tr>\n",
       "  </thead>\n",
       "  <tbody>\n",
       "    <tr>\n",
       "      <th>0</th>\n",
       "      <td>0.30</td>\n",
       "      <td>Ideal</td>\n",
       "      <td>E</td>\n",
       "      <td>SI1</td>\n",
       "      <td>62.1</td>\n",
       "      <td>58.0</td>\n",
       "      <td>4.27</td>\n",
       "      <td>4.29</td>\n",
       "      <td>2.66</td>\n",
       "      <td>499</td>\n",
       "    </tr>\n",
       "    <tr>\n",
       "      <th>1</th>\n",
       "      <td>0.33</td>\n",
       "      <td>Premium</td>\n",
       "      <td>G</td>\n",
       "      <td>IF</td>\n",
       "      <td>60.8</td>\n",
       "      <td>58.0</td>\n",
       "      <td>4.42</td>\n",
       "      <td>4.46</td>\n",
       "      <td>2.70</td>\n",
       "      <td>984</td>\n",
       "    </tr>\n",
       "    <tr>\n",
       "      <th>2</th>\n",
       "      <td>0.90</td>\n",
       "      <td>Very Good</td>\n",
       "      <td>E</td>\n",
       "      <td>VVS2</td>\n",
       "      <td>62.2</td>\n",
       "      <td>60.0</td>\n",
       "      <td>6.04</td>\n",
       "      <td>6.12</td>\n",
       "      <td>3.78</td>\n",
       "      <td>6289</td>\n",
       "    </tr>\n",
       "    <tr>\n",
       "      <th>3</th>\n",
       "      <td>0.42</td>\n",
       "      <td>Ideal</td>\n",
       "      <td>F</td>\n",
       "      <td>VS1</td>\n",
       "      <td>61.6</td>\n",
       "      <td>56.0</td>\n",
       "      <td>4.82</td>\n",
       "      <td>4.80</td>\n",
       "      <td>2.96</td>\n",
       "      <td>1082</td>\n",
       "    </tr>\n",
       "    <tr>\n",
       "      <th>4</th>\n",
       "      <td>0.31</td>\n",
       "      <td>Ideal</td>\n",
       "      <td>F</td>\n",
       "      <td>VVS1</td>\n",
       "      <td>60.4</td>\n",
       "      <td>59.0</td>\n",
       "      <td>4.35</td>\n",
       "      <td>4.43</td>\n",
       "      <td>2.65</td>\n",
       "      <td>779</td>\n",
       "    </tr>\n",
       "  </tbody>\n",
       "</table>\n",
       "</div>"
      ],
      "text/plain": [
       "   carat        cut color clarity  depth  table     x     y     z  price\n",
       "0   0.30      Ideal     E     SI1   62.1   58.0  4.27  4.29  2.66    499\n",
       "1   0.33    Premium     G      IF   60.8   58.0  4.42  4.46  2.70    984\n",
       "2   0.90  Very Good     E    VVS2   62.2   60.0  6.04  6.12  3.78   6289\n",
       "3   0.42      Ideal     F     VS1   61.6   56.0  4.82  4.80  2.96   1082\n",
       "4   0.31      Ideal     F    VVS1   60.4   59.0  4.35  4.43  2.65    779"
      ]
     },
     "execution_count": 8,
     "metadata": {},
     "output_type": "execute_result"
    }
   ],
   "source": [
    "df.head()"
   ]
  },
  {
   "cell_type": "code",
   "execution_count": 10,
   "metadata": {},
   "outputs": [],
   "source": [
    "## Splitting the data into dependent and independent variables\n",
    "X = df.drop(labels=['price'],axis=1)\n",
    "Y= df[['price']]"
   ]
  },
  {
   "cell_type": "code",
   "execution_count": 12,
   "metadata": {},
   "outputs": [],
   "source": [
    "#Divide into categorical and numerical columns \n",
    "categorical_cols = X.select_dtypes(include='object').columns\n",
    "numerical_cols = X.select_dtypes(exclude='object').columns"
   ]
  },
  {
   "cell_type": "code",
   "execution_count": 14,
   "metadata": {},
   "outputs": [],
   "source": [
    "##Custom Ranking for the ordinal categorical variables\n",
    "cut_categories=['Fair','Good','Very Good','Premium','Ideal']\n",
    "color_categories=['D','E','F','G','H','I','J']\n",
    "clarity_categories=['I1','SI2','SI1','VS2','VS1','VVS2','VVS1','IF']"
   ]
  },
  {
   "cell_type": "code",
   "execution_count": 17,
   "metadata": {},
   "outputs": [],
   "source": [
    "from sklearn.impute import SimpleImputer ## For handling missing values\n",
    "from sklearn.preprocessing import StandardScaler ## To perform standardization on data\n",
    "from sklearn.preprocessing import OrdinalEncoder ## To perform Ordinal Encoder\n",
    "##pipelines \n",
    "from sklearn.pipeline import Pipeline\n",
    "from sklearn.compose import ColumnTransformer"
   ]
  },
  {
   "cell_type": "code",
   "execution_count": 16,
   "metadata": {},
   "outputs": [
    {
     "data": {
      "text/plain": [
       "carat        0\n",
       "cut          0\n",
       "color        0\n",
       "clarity      0\n",
       "depth      697\n",
       "table        0\n",
       "x            0\n",
       "y            0\n",
       "z            0\n",
       "dtype: int64"
      ]
     },
     "execution_count": 16,
     "metadata": {},
     "output_type": "execute_result"
    }
   ],
   "source": [
    "X.isna().sum()"
   ]
  },
  {
   "cell_type": "code",
   "execution_count": 20,
   "metadata": {},
   "outputs": [],
   "source": [
    "## Numerical Pipeline\n",
    "num_pipeline =Pipeline(\n",
    "    steps=\n",
    "    [('imputer',SimpleImputer(strategy='median')),\n",
    "     ('scaler',StandardScaler())\n",
    "    ]\n",
    ")\n",
    "\n",
    "## Categorical Pipeline\n",
    "cat_pipeline=Pipeline(\n",
    "    steps=[\n",
    "    ('imputer',SimpleImputer(strategy='most_frequent')),\n",
    "    ('ordinalencoder',OrdinalEncoder(categories=[cut_categories,color_categories,clarity_categories])),\n",
    "    ('scaler',StandardScaler())\n",
    "    ]\n",
    ")\n",
    "\n",
    "preprocessor = ColumnTransformer([\n",
    "    ('num_pipeline',num_pipeline,numerical_cols),\n",
    "    ('cat_pipeline',cat_pipeline,categorical_cols)\n",
    "])"
   ]
  },
  {
   "cell_type": "code",
   "execution_count": 27,
   "metadata": {},
   "outputs": [],
   "source": [
    "##Train Test Split\n",
    "from sklearn.model_selection import train_test_split\n",
    "\n",
    "X_train,X_test,y_train,y_test = train_test_split(X,Y,test_size=0.30,random_state=42)"
   ]
  },
  {
   "cell_type": "code",
   "execution_count": 28,
   "metadata": {},
   "outputs": [
    {
     "data": {
      "text/html": [
       "<div>\n",
       "<style scoped>\n",
       "    .dataframe tbody tr th:only-of-type {\n",
       "        vertical-align: middle;\n",
       "    }\n",
       "\n",
       "    .dataframe tbody tr th {\n",
       "        vertical-align: top;\n",
       "    }\n",
       "\n",
       "    .dataframe thead th {\n",
       "        text-align: right;\n",
       "    }\n",
       "</style>\n",
       "<table border=\"1\" class=\"dataframe\">\n",
       "  <thead>\n",
       "    <tr style=\"text-align: right;\">\n",
       "      <th></th>\n",
       "      <th>carat</th>\n",
       "      <th>cut</th>\n",
       "      <th>color</th>\n",
       "      <th>clarity</th>\n",
       "      <th>depth</th>\n",
       "      <th>table</th>\n",
       "      <th>x</th>\n",
       "      <th>y</th>\n",
       "      <th>z</th>\n",
       "    </tr>\n",
       "  </thead>\n",
       "  <tbody>\n",
       "    <tr>\n",
       "      <th>19040</th>\n",
       "      <td>1.17</td>\n",
       "      <td>Good</td>\n",
       "      <td>D</td>\n",
       "      <td>SI2</td>\n",
       "      <td>60.4</td>\n",
       "      <td>65.0</td>\n",
       "      <td>6.81</td>\n",
       "      <td>6.77</td>\n",
       "      <td>4.10</td>\n",
       "    </tr>\n",
       "    <tr>\n",
       "      <th>396</th>\n",
       "      <td>1.20</td>\n",
       "      <td>Ideal</td>\n",
       "      <td>F</td>\n",
       "      <td>VVS1</td>\n",
       "      <td>61.1</td>\n",
       "      <td>55.0</td>\n",
       "      <td>6.86</td>\n",
       "      <td>6.89</td>\n",
       "      <td>4.20</td>\n",
       "    </tr>\n",
       "    <tr>\n",
       "      <th>15626</th>\n",
       "      <td>0.31</td>\n",
       "      <td>Very Good</td>\n",
       "      <td>I</td>\n",
       "      <td>VVS2</td>\n",
       "      <td>61.6</td>\n",
       "      <td>59.0</td>\n",
       "      <td>4.31</td>\n",
       "      <td>4.33</td>\n",
       "      <td>2.66</td>\n",
       "    </tr>\n",
       "    <tr>\n",
       "      <th>16597</th>\n",
       "      <td>2.19</td>\n",
       "      <td>Ideal</td>\n",
       "      <td>I</td>\n",
       "      <td>SI2</td>\n",
       "      <td>62.5</td>\n",
       "      <td>56.0</td>\n",
       "      <td>8.31</td>\n",
       "      <td>8.24</td>\n",
       "      <td>5.18</td>\n",
       "    </tr>\n",
       "    <tr>\n",
       "      <th>5811</th>\n",
       "      <td>0.30</td>\n",
       "      <td>Ideal</td>\n",
       "      <td>H</td>\n",
       "      <td>VS2</td>\n",
       "      <td>62.1</td>\n",
       "      <td>57.0</td>\n",
       "      <td>4.27</td>\n",
       "      <td>4.30</td>\n",
       "      <td>2.66</td>\n",
       "    </tr>\n",
       "  </tbody>\n",
       "</table>\n",
       "</div>"
      ],
      "text/plain": [
       "       carat        cut color clarity  depth  table     x     y     z\n",
       "19040   1.17       Good     D     SI2   60.4   65.0  6.81  6.77  4.10\n",
       "396     1.20      Ideal     F    VVS1   61.1   55.0  6.86  6.89  4.20\n",
       "15626   0.31  Very Good     I    VVS2   61.6   59.0  4.31  4.33  2.66\n",
       "16597   2.19      Ideal     I     SI2   62.5   56.0  8.31  8.24  5.18\n",
       "5811    0.30      Ideal     H     VS2   62.1   57.0  4.27  4.30  2.66"
      ]
     },
     "execution_count": 28,
     "metadata": {},
     "output_type": "execute_result"
    }
   ],
   "source": [
    "X_train.head()"
   ]
  },
  {
   "cell_type": "code",
   "execution_count": 29,
   "metadata": {},
   "outputs": [
    {
     "data": {
      "text/html": [
       "<div>\n",
       "<style scoped>\n",
       "    .dataframe tbody tr th:only-of-type {\n",
       "        vertical-align: middle;\n",
       "    }\n",
       "\n",
       "    .dataframe tbody tr th {\n",
       "        vertical-align: top;\n",
       "    }\n",
       "\n",
       "    .dataframe thead th {\n",
       "        text-align: right;\n",
       "    }\n",
       "</style>\n",
       "<table border=\"1\" class=\"dataframe\">\n",
       "  <thead>\n",
       "    <tr style=\"text-align: right;\">\n",
       "      <th></th>\n",
       "      <th>carat</th>\n",
       "      <th>cut</th>\n",
       "      <th>color</th>\n",
       "      <th>clarity</th>\n",
       "      <th>depth</th>\n",
       "      <th>table</th>\n",
       "      <th>x</th>\n",
       "      <th>y</th>\n",
       "      <th>z</th>\n",
       "    </tr>\n",
       "  </thead>\n",
       "  <tbody>\n",
       "    <tr>\n",
       "      <th>9922</th>\n",
       "      <td>1.10</td>\n",
       "      <td>Very Good</td>\n",
       "      <td>F</td>\n",
       "      <td>SI1</td>\n",
       "      <td>60.5</td>\n",
       "      <td>60.0</td>\n",
       "      <td>6.65</td>\n",
       "      <td>6.67</td>\n",
       "      <td>4.03</td>\n",
       "    </tr>\n",
       "    <tr>\n",
       "      <th>25556</th>\n",
       "      <td>0.41</td>\n",
       "      <td>Good</td>\n",
       "      <td>E</td>\n",
       "      <td>SI2</td>\n",
       "      <td>63.5</td>\n",
       "      <td>55.0</td>\n",
       "      <td>4.69</td>\n",
       "      <td>4.73</td>\n",
       "      <td>2.99</td>\n",
       "    </tr>\n",
       "    <tr>\n",
       "      <th>22421</th>\n",
       "      <td>0.25</td>\n",
       "      <td>Premium</td>\n",
       "      <td>H</td>\n",
       "      <td>VVS1</td>\n",
       "      <td>59.8</td>\n",
       "      <td>59.0</td>\n",
       "      <td>4.07</td>\n",
       "      <td>4.09</td>\n",
       "      <td>2.44</td>\n",
       "    </tr>\n",
       "    <tr>\n",
       "      <th>18128</th>\n",
       "      <td>1.52</td>\n",
       "      <td>Ideal</td>\n",
       "      <td>H</td>\n",
       "      <td>VVS2</td>\n",
       "      <td>62.8</td>\n",
       "      <td>56.0</td>\n",
       "      <td>7.32</td>\n",
       "      <td>7.30</td>\n",
       "      <td>4.59</td>\n",
       "    </tr>\n",
       "    <tr>\n",
       "      <th>14105</th>\n",
       "      <td>0.42</td>\n",
       "      <td>Ideal</td>\n",
       "      <td>D</td>\n",
       "      <td>VVS2</td>\n",
       "      <td>62.1</td>\n",
       "      <td>55.0</td>\n",
       "      <td>4.78</td>\n",
       "      <td>4.81</td>\n",
       "      <td>2.98</td>\n",
       "    </tr>\n",
       "  </tbody>\n",
       "</table>\n",
       "</div>"
      ],
      "text/plain": [
       "       carat        cut color clarity  depth  table     x     y     z\n",
       "9922    1.10  Very Good     F     SI1   60.5   60.0  6.65  6.67  4.03\n",
       "25556   0.41       Good     E     SI2   63.5   55.0  4.69  4.73  2.99\n",
       "22421   0.25    Premium     H    VVS1   59.8   59.0  4.07  4.09  2.44\n",
       "18128   1.52      Ideal     H    VVS2   62.8   56.0  7.32  7.30  4.59\n",
       "14105   0.42      Ideal     D    VVS2   62.1   55.0  4.78  4.81  2.98"
      ]
     },
     "execution_count": 29,
     "metadata": {},
     "output_type": "execute_result"
    }
   ],
   "source": [
    "X_test.head()"
   ]
  },
  {
   "cell_type": "code",
   "execution_count": 30,
   "metadata": {},
   "outputs": [],
   "source": [
    "X_train=pd.DataFrame(preprocessor.fit_transform(X_train),columns=preprocessor.get_feature_names_out())\n",
    "X_test=pd.DataFrame(preprocessor.transform(X_test),columns=preprocessor.get_feature_names_out())"
   ]
  },
  {
   "cell_type": "code",
   "execution_count": 31,
   "metadata": {},
   "outputs": [
    {
     "data": {
      "text/html": [
       "<div>\n",
       "<style scoped>\n",
       "    .dataframe tbody tr th:only-of-type {\n",
       "        vertical-align: middle;\n",
       "    }\n",
       "\n",
       "    .dataframe tbody tr th {\n",
       "        vertical-align: top;\n",
       "    }\n",
       "\n",
       "    .dataframe thead th {\n",
       "        text-align: right;\n",
       "    }\n",
       "</style>\n",
       "<table border=\"1\" class=\"dataframe\">\n",
       "  <thead>\n",
       "    <tr style=\"text-align: right;\">\n",
       "      <th></th>\n",
       "      <th>num_pipeline__carat</th>\n",
       "      <th>num_pipeline__depth</th>\n",
       "      <th>num_pipeline__table</th>\n",
       "      <th>num_pipeline__x</th>\n",
       "      <th>num_pipeline__y</th>\n",
       "      <th>num_pipeline__z</th>\n",
       "      <th>cat_pipeline__cut</th>\n",
       "      <th>cat_pipeline__color</th>\n",
       "      <th>cat_pipeline__clarity</th>\n",
       "    </tr>\n",
       "  </thead>\n",
       "  <tbody>\n",
       "    <tr>\n",
       "      <th>0</th>\n",
       "      <td>0.787964</td>\n",
       "      <td>-0.966850</td>\n",
       "      <td>3.365840</td>\n",
       "      <td>0.964420</td>\n",
       "      <td>0.934381</td>\n",
       "      <td>0.813401</td>\n",
       "      <td>-1.717499</td>\n",
       "      <td>-1.523957</td>\n",
       "      <td>-1.247448</td>\n",
       "    </tr>\n",
       "    <tr>\n",
       "      <th>1</th>\n",
       "      <td>0.851153</td>\n",
       "      <td>-0.461986</td>\n",
       "      <td>-1.095845</td>\n",
       "      <td>1.008892</td>\n",
       "      <td>1.041947</td>\n",
       "      <td>0.957195</td>\n",
       "      <td>0.981578</td>\n",
       "      <td>-0.354480</td>\n",
       "      <td>1.791324</td>\n",
       "    </tr>\n",
       "    <tr>\n",
       "      <th>2</th>\n",
       "      <td>-1.023443</td>\n",
       "      <td>-0.101369</td>\n",
       "      <td>0.688829</td>\n",
       "      <td>-1.259163</td>\n",
       "      <td>-1.252793</td>\n",
       "      <td>-1.257232</td>\n",
       "      <td>-0.817807</td>\n",
       "      <td>1.399736</td>\n",
       "      <td>1.183569</td>\n",
       "    </tr>\n",
       "    <tr>\n",
       "      <th>3</th>\n",
       "      <td>2.936379</td>\n",
       "      <td>0.547743</td>\n",
       "      <td>-0.649677</td>\n",
       "      <td>2.298570</td>\n",
       "      <td>2.252064</td>\n",
       "      <td>2.366376</td>\n",
       "      <td>0.981578</td>\n",
       "      <td>1.399736</td>\n",
       "      <td>-1.247448</td>\n",
       "    </tr>\n",
       "    <tr>\n",
       "      <th>4</th>\n",
       "      <td>-1.044506</td>\n",
       "      <td>0.259249</td>\n",
       "      <td>-0.203508</td>\n",
       "      <td>-1.294740</td>\n",
       "      <td>-1.279684</td>\n",
       "      <td>-1.257232</td>\n",
       "      <td>0.981578</td>\n",
       "      <td>0.814997</td>\n",
       "      <td>-0.031940</td>\n",
       "    </tr>\n",
       "  </tbody>\n",
       "</table>\n",
       "</div>"
      ],
      "text/plain": [
       "   num_pipeline__carat  num_pipeline__depth  num_pipeline__table   \n",
       "0             0.787964            -0.966850             3.365840  \\\n",
       "1             0.851153            -0.461986            -1.095845   \n",
       "2            -1.023443            -0.101369             0.688829   \n",
       "3             2.936379             0.547743            -0.649677   \n",
       "4            -1.044506             0.259249            -0.203508   \n",
       "\n",
       "   num_pipeline__x  num_pipeline__y  num_pipeline__z  cat_pipeline__cut   \n",
       "0         0.964420         0.934381         0.813401          -1.717499  \\\n",
       "1         1.008892         1.041947         0.957195           0.981578   \n",
       "2        -1.259163        -1.252793        -1.257232          -0.817807   \n",
       "3         2.298570         2.252064         2.366376           0.981578   \n",
       "4        -1.294740        -1.279684        -1.257232           0.981578   \n",
       "\n",
       "   cat_pipeline__color  cat_pipeline__clarity  \n",
       "0            -1.523957              -1.247448  \n",
       "1            -0.354480               1.791324  \n",
       "2             1.399736               1.183569  \n",
       "3             1.399736              -1.247448  \n",
       "4             0.814997              -0.031940  "
      ]
     },
     "execution_count": 31,
     "metadata": {},
     "output_type": "execute_result"
    }
   ],
   "source": [
    "X_train.head()"
   ]
  },
  {
   "cell_type": "code",
   "execution_count": 32,
   "metadata": {},
   "outputs": [
    {
     "data": {
      "text/html": [
       "<div>\n",
       "<style scoped>\n",
       "    .dataframe tbody tr th:only-of-type {\n",
       "        vertical-align: middle;\n",
       "    }\n",
       "\n",
       "    .dataframe tbody tr th {\n",
       "        vertical-align: top;\n",
       "    }\n",
       "\n",
       "    .dataframe thead th {\n",
       "        text-align: right;\n",
       "    }\n",
       "</style>\n",
       "<table border=\"1\" class=\"dataframe\">\n",
       "  <thead>\n",
       "    <tr style=\"text-align: right;\">\n",
       "      <th></th>\n",
       "      <th>num_pipeline__carat</th>\n",
       "      <th>num_pipeline__depth</th>\n",
       "      <th>num_pipeline__table</th>\n",
       "      <th>num_pipeline__x</th>\n",
       "      <th>num_pipeline__y</th>\n",
       "      <th>num_pipeline__z</th>\n",
       "      <th>cat_pipeline__cut</th>\n",
       "      <th>cat_pipeline__color</th>\n",
       "      <th>cat_pipeline__clarity</th>\n",
       "    </tr>\n",
       "  </thead>\n",
       "  <tbody>\n",
       "    <tr>\n",
       "      <th>0</th>\n",
       "      <td>0.640524</td>\n",
       "      <td>-0.894727</td>\n",
       "      <td>1.134997</td>\n",
       "      <td>0.822111</td>\n",
       "      <td>0.844743</td>\n",
       "      <td>0.712745</td>\n",
       "      <td>-0.817807</td>\n",
       "      <td>-0.354480</td>\n",
       "      <td>-0.639694</td>\n",
       "    </tr>\n",
       "    <tr>\n",
       "      <th>1</th>\n",
       "      <td>-0.812815</td>\n",
       "      <td>1.268977</td>\n",
       "      <td>-1.095845</td>\n",
       "      <td>-0.921178</td>\n",
       "      <td>-0.894240</td>\n",
       "      <td>-0.782712</td>\n",
       "      <td>-1.717499</td>\n",
       "      <td>-0.939218</td>\n",
       "      <td>-1.247448</td>\n",
       "    </tr>\n",
       "    <tr>\n",
       "      <th>2</th>\n",
       "      <td>-1.149821</td>\n",
       "      <td>-1.399591</td>\n",
       "      <td>0.688829</td>\n",
       "      <td>-1.472627</td>\n",
       "      <td>-1.467924</td>\n",
       "      <td>-1.573579</td>\n",
       "      <td>0.081886</td>\n",
       "      <td>0.814997</td>\n",
       "      <td>1.791324</td>\n",
       "    </tr>\n",
       "    <tr>\n",
       "      <th>3</th>\n",
       "      <td>1.525165</td>\n",
       "      <td>0.764113</td>\n",
       "      <td>-0.649677</td>\n",
       "      <td>1.418031</td>\n",
       "      <td>1.409464</td>\n",
       "      <td>1.517991</td>\n",
       "      <td>0.981578</td>\n",
       "      <td>0.814997</td>\n",
       "      <td>1.183569</td>\n",
       "    </tr>\n",
       "    <tr>\n",
       "      <th>4</th>\n",
       "      <td>-0.791752</td>\n",
       "      <td>0.259249</td>\n",
       "      <td>-1.095845</td>\n",
       "      <td>-0.841129</td>\n",
       "      <td>-0.822529</td>\n",
       "      <td>-0.797091</td>\n",
       "      <td>0.981578</td>\n",
       "      <td>-1.523957</td>\n",
       "      <td>1.183569</td>\n",
       "    </tr>\n",
       "  </tbody>\n",
       "</table>\n",
       "</div>"
      ],
      "text/plain": [
       "   num_pipeline__carat  num_pipeline__depth  num_pipeline__table   \n",
       "0             0.640524            -0.894727             1.134997  \\\n",
       "1            -0.812815             1.268977            -1.095845   \n",
       "2            -1.149821            -1.399591             0.688829   \n",
       "3             1.525165             0.764113            -0.649677   \n",
       "4            -0.791752             0.259249            -1.095845   \n",
       "\n",
       "   num_pipeline__x  num_pipeline__y  num_pipeline__z  cat_pipeline__cut   \n",
       "0         0.822111         0.844743         0.712745          -0.817807  \\\n",
       "1        -0.921178        -0.894240        -0.782712          -1.717499   \n",
       "2        -1.472627        -1.467924        -1.573579           0.081886   \n",
       "3         1.418031         1.409464         1.517991           0.981578   \n",
       "4        -0.841129        -0.822529        -0.797091           0.981578   \n",
       "\n",
       "   cat_pipeline__color  cat_pipeline__clarity  \n",
       "0            -0.354480              -0.639694  \n",
       "1            -0.939218              -1.247448  \n",
       "2             0.814997               1.791324  \n",
       "3             0.814997               1.183569  \n",
       "4            -1.523957               1.183569  "
      ]
     },
     "execution_count": 32,
     "metadata": {},
     "output_type": "execute_result"
    }
   ],
   "source": [
    "X_test.head()"
   ]
  },
  {
   "cell_type": "code",
   "execution_count": 33,
   "metadata": {},
   "outputs": [
    {
     "data": {
      "text/plain": [
       "num_pipeline__carat      0\n",
       "num_pipeline__depth      0\n",
       "num_pipeline__table      0\n",
       "num_pipeline__x          0\n",
       "num_pipeline__y          0\n",
       "num_pipeline__z          0\n",
       "cat_pipeline__cut        0\n",
       "cat_pipeline__color      0\n",
       "cat_pipeline__clarity    0\n",
       "dtype: int64"
      ]
     },
     "execution_count": 33,
     "metadata": {},
     "output_type": "execute_result"
    }
   ],
   "source": [
    "X_train.isna().sum()"
   ]
  },
  {
   "cell_type": "code",
   "execution_count": 34,
   "metadata": {},
   "outputs": [
    {
     "data": {
      "text/plain": [
       "num_pipeline__carat      0\n",
       "num_pipeline__depth      0\n",
       "num_pipeline__table      0\n",
       "num_pipeline__x          0\n",
       "num_pipeline__y          0\n",
       "num_pipeline__z          0\n",
       "cat_pipeline__cut        0\n",
       "cat_pipeline__color      0\n",
       "cat_pipeline__clarity    0\n",
       "dtype: int64"
      ]
     },
     "execution_count": 34,
     "metadata": {},
     "output_type": "execute_result"
    }
   ],
   "source": [
    "X_test.isna().sum()"
   ]
  },
  {
   "cell_type": "code",
   "execution_count": 36,
   "metadata": {},
   "outputs": [],
   "source": [
    "## Model Training\n",
    "from sklearn.linear_model import LinearRegression,Lasso,Ridge,ElasticNet\n",
    "from sklearn.metrics import r2_score,mean_absolute_error,mean_squared_error"
   ]
  },
  {
   "cell_type": "code",
   "execution_count": 37,
   "metadata": {},
   "outputs": [
    {
     "data": {
      "text/html": [
       "<style>#sk-container-id-1 {color: black;background-color: white;}#sk-container-id-1 pre{padding: 0;}#sk-container-id-1 div.sk-toggleable {background-color: white;}#sk-container-id-1 label.sk-toggleable__label {cursor: pointer;display: block;width: 100%;margin-bottom: 0;padding: 0.3em;box-sizing: border-box;text-align: center;}#sk-container-id-1 label.sk-toggleable__label-arrow:before {content: \"▸\";float: left;margin-right: 0.25em;color: #696969;}#sk-container-id-1 label.sk-toggleable__label-arrow:hover:before {color: black;}#sk-container-id-1 div.sk-estimator:hover label.sk-toggleable__label-arrow:before {color: black;}#sk-container-id-1 div.sk-toggleable__content {max-height: 0;max-width: 0;overflow: hidden;text-align: left;background-color: #f0f8ff;}#sk-container-id-1 div.sk-toggleable__content pre {margin: 0.2em;color: black;border-radius: 0.25em;background-color: #f0f8ff;}#sk-container-id-1 input.sk-toggleable__control:checked~div.sk-toggleable__content {max-height: 200px;max-width: 100%;overflow: auto;}#sk-container-id-1 input.sk-toggleable__control:checked~label.sk-toggleable__label-arrow:before {content: \"▾\";}#sk-container-id-1 div.sk-estimator input.sk-toggleable__control:checked~label.sk-toggleable__label {background-color: #d4ebff;}#sk-container-id-1 div.sk-label input.sk-toggleable__control:checked~label.sk-toggleable__label {background-color: #d4ebff;}#sk-container-id-1 input.sk-hidden--visually {border: 0;clip: rect(1px 1px 1px 1px);clip: rect(1px, 1px, 1px, 1px);height: 1px;margin: -1px;overflow: hidden;padding: 0;position: absolute;width: 1px;}#sk-container-id-1 div.sk-estimator {font-family: monospace;background-color: #f0f8ff;border: 1px dotted black;border-radius: 0.25em;box-sizing: border-box;margin-bottom: 0.5em;}#sk-container-id-1 div.sk-estimator:hover {background-color: #d4ebff;}#sk-container-id-1 div.sk-parallel-item::after {content: \"\";width: 100%;border-bottom: 1px solid gray;flex-grow: 1;}#sk-container-id-1 div.sk-label:hover label.sk-toggleable__label {background-color: #d4ebff;}#sk-container-id-1 div.sk-serial::before {content: \"\";position: absolute;border-left: 1px solid gray;box-sizing: border-box;top: 0;bottom: 0;left: 50%;z-index: 0;}#sk-container-id-1 div.sk-serial {display: flex;flex-direction: column;align-items: center;background-color: white;padding-right: 0.2em;padding-left: 0.2em;position: relative;}#sk-container-id-1 div.sk-item {position: relative;z-index: 1;}#sk-container-id-1 div.sk-parallel {display: flex;align-items: stretch;justify-content: center;background-color: white;position: relative;}#sk-container-id-1 div.sk-item::before, #sk-container-id-1 div.sk-parallel-item::before {content: \"\";position: absolute;border-left: 1px solid gray;box-sizing: border-box;top: 0;bottom: 0;left: 50%;z-index: -1;}#sk-container-id-1 div.sk-parallel-item {display: flex;flex-direction: column;z-index: 1;position: relative;background-color: white;}#sk-container-id-1 div.sk-parallel-item:first-child::after {align-self: flex-end;width: 50%;}#sk-container-id-1 div.sk-parallel-item:last-child::after {align-self: flex-start;width: 50%;}#sk-container-id-1 div.sk-parallel-item:only-child::after {width: 0;}#sk-container-id-1 div.sk-dashed-wrapped {border: 1px dashed gray;margin: 0 0.4em 0.5em 0.4em;box-sizing: border-box;padding-bottom: 0.4em;background-color: white;}#sk-container-id-1 div.sk-label label {font-family: monospace;font-weight: bold;display: inline-block;line-height: 1.2em;}#sk-container-id-1 div.sk-label-container {text-align: center;}#sk-container-id-1 div.sk-container {/* jupyter's `normalize.less` sets `[hidden] { display: none; }` but bootstrap.min.css set `[hidden] { display: none !important; }` so we also need the `!important` here to be able to override the default hidden behavior on the sphinx rendered scikit-learn.org. See: https://github.com/scikit-learn/scikit-learn/issues/21755 */display: inline-block !important;position: relative;}#sk-container-id-1 div.sk-text-repr-fallback {display: none;}</style><div id=\"sk-container-id-1\" class=\"sk-top-container\"><div class=\"sk-text-repr-fallback\"><pre>LinearRegression()</pre><b>In a Jupyter environment, please rerun this cell to show the HTML representation or trust the notebook. <br />On GitHub, the HTML representation is unable to render, please try loading this page with nbviewer.org.</b></div><div class=\"sk-container\" hidden><div class=\"sk-item\"><div class=\"sk-estimator sk-toggleable\"><input class=\"sk-toggleable__control sk-hidden--visually\" id=\"sk-estimator-id-1\" type=\"checkbox\" checked><label for=\"sk-estimator-id-1\" class=\"sk-toggleable__label sk-toggleable__label-arrow\">LinearRegression</label><div class=\"sk-toggleable__content\"><pre>LinearRegression()</pre></div></div></div></div></div>"
      ],
      "text/plain": [
       "LinearRegression()"
      ]
     },
     "execution_count": 37,
     "metadata": {},
     "output_type": "execute_result"
    }
   ],
   "source": [
    "regression = LinearRegression()\n",
    "regression.fit(X_train,y_train)"
   ]
  },
  {
   "cell_type": "code",
   "execution_count": 38,
   "metadata": {},
   "outputs": [
    {
     "data": {
      "text/plain": [
       "array([[ 5134.94904902,   -67.41049312,   -63.44838633, -2608.5353019 ,\n",
       "         1988.31634422,  -361.0516354 ,   138.46524479,  -572.15521544,\n",
       "          817.73546177]])"
      ]
     },
     "execution_count": 38,
     "metadata": {},
     "output_type": "execute_result"
    }
   ],
   "source": [
    "regression.coef_"
   ]
  },
  {
   "cell_type": "code",
   "execution_count": 39,
   "metadata": {},
   "outputs": [
    {
     "data": {
      "text/plain": [
       "array([3918.29561348])"
      ]
     },
     "execution_count": 39,
     "metadata": {},
     "output_type": "execute_result"
    }
   ],
   "source": [
    "regression.intercept_"
   ]
  },
  {
   "cell_type": "code",
   "execution_count": 40,
   "metadata": {},
   "outputs": [],
   "source": [
    "import numpy as np\n",
    "def evaluate_model(true,predicted):\n",
    "    mae=mean_absolute_error(true,predicted)\n",
    "    mse=mean_squared_error(true,predicted)\n",
    "    rmse=np.sqrt(mean_squared_error(true,predicted))\n",
    "    r2_square=r2_score(true,predicted)\n",
    "    return mae,mse,rmse,r2_square"
   ]
  },
  {
   "cell_type": "code",
   "execution_count": 42,
   "metadata": {},
   "outputs": [
    {
     "name": "stdout",
     "output_type": "stream",
     "text": [
      "LinearRegression\n",
      "Model Training Performance\n",
      "RMSE : 1587.1167009084093\n",
      "MAE : 835.886245456109\n",
      "R2 score: 84.78189531683753\n",
      "===================================\n",
      "\n",
      "\n"
     ]
    },
    {
     "name": "stderr",
     "output_type": "stream",
     "text": [
      "c:\\Saravanesh Personal\\INeuron\\FSDS_Bootcamp\\california_houseprice\\venv\\lib\\site-packages\\sklearn\\linear_model\\_coordinate_descent.py:631: ConvergenceWarning: Objective did not converge. You might want to increase the number of iterations, check the scale of the features or consider increasing regularisation. Duality gap: 4.581e+08, tolerance: 3.029e+07\n",
      "  model = cd_fast.enet_coordinate_descent(\n"
     ]
    },
    {
     "name": "stdout",
     "output_type": "stream",
     "text": [
      "Lasso\n",
      "Model Training Performance\n",
      "RMSE : 1367.9530690614838\n",
      "MAE : 830.6779148344891\n",
      "R2 score: 88.69461803291462\n",
      "===================================\n",
      "\n",
      "\n",
      "Ridge\n",
      "Model Training Performance\n",
      "RMSE : 1561.7320006856874\n",
      "MAE : 835.4727156232129\n",
      "R2 score: 85.26480584830516\n",
      "===================================\n",
      "\n",
      "\n",
      "ElasticNet\n",
      "Model Training Performance\n",
      "RMSE : 1704.2038945761697\n",
      "MAE : 1091.7710931670827\n",
      "R2 score: 82.45368382630795\n",
      "===================================\n",
      "\n",
      "\n"
     ]
    }
   ],
   "source": [
    "#Train Multiple models\n",
    "models={\n",
    "    'LinearRegression':LinearRegression(),\n",
    "    'Lasso':Lasso(),\n",
    "    'Ridge':Ridge(),\n",
    "    'ElasticNet':ElasticNet()\n",
    "}\n",
    "model_list=[]\n",
    "r2_list=[]\n",
    "\n",
    "for i in range(len(list(models))):\n",
    "    model=list(models.values())[i]\n",
    "    model.fit(X_train,y_train)\n",
    "\n",
    "    #make predictions\n",
    "    y_pred=model.predict(X_test)\n",
    "\n",
    "    mae,mse,rmse,r2_square=evaluate_model(y_test,y_pred)\n",
    "    print(list(models.keys())[i])\n",
    "    model_list.append(list(models.keys())[i])\n",
    "\n",
    "    print('Model Training Performance')\n",
    "    print('RMSE :',rmse)\n",
    "    print('MAE :',mae)\n",
    "    print('R2 score:',r2_square*100)\n",
    "\n",
    "    r2_list.append(r2_square)\n",
    "    print('='*35)\n",
    "    print('\\n')"
   ]
  },
  {
   "cell_type": "code",
   "execution_count": null,
   "metadata": {},
   "outputs": [],
   "source": []
  },
  {
   "cell_type": "code",
   "execution_count": null,
   "metadata": {},
   "outputs": [],
   "source": []
  },
  {
   "cell_type": "code",
   "execution_count": null,
   "metadata": {},
   "outputs": [],
   "source": []
  },
  {
   "cell_type": "code",
   "execution_count": null,
   "metadata": {},
   "outputs": [],
   "source": []
  },
  {
   "cell_type": "code",
   "execution_count": null,
   "metadata": {},
   "outputs": [],
   "source": []
  },
  {
   "cell_type": "code",
   "execution_count": null,
   "metadata": {},
   "outputs": [],
   "source": []
  },
  {
   "cell_type": "code",
   "execution_count": null,
   "metadata": {},
   "outputs": [],
   "source": []
  },
  {
   "cell_type": "code",
   "execution_count": null,
   "metadata": {},
   "outputs": [],
   "source": []
  },
  {
   "cell_type": "code",
   "execution_count": null,
   "metadata": {},
   "outputs": [],
   "source": []
  },
  {
   "cell_type": "code",
   "execution_count": null,
   "metadata": {},
   "outputs": [],
   "source": []
  },
  {
   "cell_type": "code",
   "execution_count": null,
   "metadata": {},
   "outputs": [],
   "source": []
  }
 ],
 "metadata": {
  "kernelspec": {
   "display_name": "Python 3",
   "language": "python",
   "name": "python3"
  },
  "language_info": {
   "codemirror_mode": {
    "name": "ipython",
    "version": 3
   },
   "file_extension": ".py",
   "mimetype": "text/x-python",
   "name": "python",
   "nbconvert_exporter": "python",
   "pygments_lexer": "ipython3",
   "version": "3.8.0"
  },
  "orig_nbformat": 4
 },
 "nbformat": 4,
 "nbformat_minor": 2
}
